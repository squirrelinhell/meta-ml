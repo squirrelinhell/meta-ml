{
 "cells": [
  {
   "cell_type": "code",
   "execution_count": 1,
   "metadata": {},
   "outputs": [],
   "source": [
    "import mandalka\n",
    "import matplotlib.pyplot as plt\n",
    "import numpy as np\n",
    "import sys\n",
    "\n",
    "from agents import *\n",
    "from worlds import *\n",
    "from values import *"
   ]
  },
  {
   "cell_type": "markdown",
   "metadata": {},
   "source": [
    "Some utilities to visualize performance:"
   ]
  },
  {
   "cell_type": "code",
   "execution_count": 2,
   "metadata": {},
   "outputs": [],
   "source": [
    "@mandalka.node\n",
    "class Score:\n",
    "    def __init__(self, world, agent):\n",
    "        rew_sum = 0.0\n",
    "        for _ in range(2):\n",
    "            for t in world.trajectory_batch(agent, range(16)):\n",
    "                for o, a, r in t:\n",
    "                    rew_sum += np.mean(r)\n",
    "        self.get = lambda: rew_sum / 32.0"
   ]
  },
  {
   "cell_type": "code",
   "execution_count": 3,
   "metadata": {},
   "outputs": [],
   "source": [
    "def histogram(Agent, learn_world, test_world, n=20):\n",
    "    if isinstance(learn_world, CachedExperience):\n",
    "        print(\"Trajectories in experience cache:\", len(learn_world))\n",
    "    agents = mandalka.threads([Agent(learn_world, i) for i in range(n)])\n",
    "    scores = mandalka.threads([Score(test_world, a) for a in agents])\n",
    "    plt.hist([s.get() for s in scores], range=(0, 100))\n",
    "    plt.show()"
   ]
  },
  {
   "cell_type": "markdown",
   "metadata": {},
   "source": [
    "Build a simple (and fast) reinforce learning agent:"
   ]
  },
  {
   "cell_type": "code",
   "execution_count": 4,
   "metadata": {
    "collapsed": true
   },
   "outputs": [],
   "source": [
    "SupervisedAgent = Softmax(\n",
    "    logits=BasicNet(\n",
    "        hidden_layers=[32],\n",
    "        batch_size=16,\n",
    "        params=GradAscent(n_steps=8, log_lr=0.9, init=Gauss)\n",
    "    )\n",
    ")\n",
    "RLAgent = WholeTrajectories(\n",
    "    agent=Reinforce(policy=SupervisedAgent)\n",
    ")"
   ]
  },
  {
   "cell_type": "markdown",
   "metadata": {},
   "source": [
    "First, let's try \"normal\" learning on the original CartPole environment:"
   ]
  },
  {
   "cell_type": "code",
   "execution_count": 14,
   "metadata": {},
   "outputs": [
    {
     "data": {
      "image/png": "[encoded data removed]",
      "text/plain": [
       "<matplotlib.figure.Figure at 0x7f0588ac7fd0>"
      ]
     },
     "metadata": {},
     "output_type": "display_data"
    }
   ],
   "source": [
    "histogram(\n",
    "    RLAgent,\n",
    "    learn_world=Gym(\"CartPole-v1\"),\n",
    "    test_world=Gym(\"CartPole-v1\")\n",
    ")"
   ]
  },
  {
   "cell_type": "markdown",
   "metadata": {},
   "source": [
    "It worked!\n",
    "\n",
    "Now, let's teach the same agent on cached episodes, which we gather by running a random agent:"
   ]
  },
  {
   "cell_type": "code",
   "execution_count": 15,
   "metadata": {},
   "outputs": [
    {
     "name": "stdout",
     "output_type": "stream",
     "text": [
      "Trajectories in experience cache: 1000\n"
     ]
    },
    {
     "data": {
      "image/png": "[encoded data removed]",
      "text/plain": [
       "<matplotlib.figure.Figure at 0x7f058903ad30>"
      ]
     },
     "metadata": {},
     "output_type": "display_data"
    }
   ],
   "source": [
    "histogram(\n",
    "    RLAgent,\n",
    "    learn_world=CachedExperience(\n",
    "        Gym(\"CartPole-v1\"),\n",
    "        agents=RandomChoice(p=0.5),\n",
    "        seed=123,\n",
    "        test_each=1000\n",
    "    ),\n",
    "    test_world=Gym(\"CartPole-v1\")\n",
    ")"
   ]
  },
  {
   "cell_type": "markdown",
   "metadata": {},
   "source": [
    "The performance dropped significantly, but it's still learning (at least in some of the attempts).\n",
    "\n",
    "For comparison, this is the performance of the random agent itself:"
   ]
  },
  {
   "cell_type": "code",
   "execution_count": 17,
   "metadata": {},
   "outputs": [
    {
     "data": {
      "image/png": "[encoded data removed]",
      "text/plain": [
       "<matplotlib.figure.Figure at 0x7f0503829fd0>"
      ]
     },
     "metadata": {},
     "output_type": "display_data"
    }
   ],
   "source": [
    "histogram(\n",
    "    RandomChoice(p=0.5),\n",
    "    learn_world=Gym(\"CartPole-v1\"),\n",
    "    test_world=Gym(\"CartPole-v1\")\n",
    ")"
   ]
  },
  {
   "cell_type": "markdown",
   "metadata": {},
   "source": [
    "Can it learn from even lower quality data, gathered by a deterministic agent which chooses \"left\" and \"right\" actions in turn?"
   ]
  },
  {
   "cell_type": "code",
   "execution_count": 18,
   "metadata": {},
   "outputs": [
    {
     "name": "stdout",
     "output_type": "stream",
     "text": [
      "Trajectories in experience cache: 1000\n"
     ]
    },
    {
     "data": {
      "image/png": "[encoded data removed]",
      "text/plain": [
       "<matplotlib.figure.Figure at 0x7f0588869c50>"
      ]
     },
     "metadata": {},
     "output_type": "display_data"
    }
   ],
   "source": [
    "histogram(\n",
    "    RLAgent,\n",
    "    learn_world=CachedExperience(\n",
    "        Gym(\"CartPole-v1\"),\n",
    "        agents=Cycle(sequence=[[0, 1], [1, 0]]),\n",
    "        seed=123,\n",
    "        test_each=1000\n",
    "    ),\n",
    "    test_world=Gym(\"CartPole-v1\")\n",
    ")"
   ]
  },
  {
   "cell_type": "markdown",
   "metadata": {},
   "source": [
    "No, in this case the performance was worse than the random agent...\n",
    "\n",
    "OK, what about learning from experience gathered by another reinforcement learner, while it is learning on the same environment?"
   ]
  },
  {
   "cell_type": "code",
   "execution_count": 19,
   "metadata": {},
   "outputs": [
    {
     "name": "stdout",
     "output_type": "stream",
     "text": [
      "Trajectories in experience cache: 970\n"
     ]
    },
    {
     "data": {
      "image/png": "[encoded data removed]",
      "text/plain": [
       "<matplotlib.figure.Figure at 0x7f0503716b38>"
      ]
     },
     "metadata": {},
     "output_type": "display_data"
    }
   ],
   "source": [
    "histogram(\n",
    "    RLAgent,\n",
    "    learn_world=CachedExperience(\n",
    "        Gym(\"CartPole-v1\"),\n",
    "        agents=[RLAgent] * 5,\n",
    "        seed=123,\n",
    "        test_each=50\n",
    "    ),\n",
    "    test_world=Gym(\"CartPole-v1\")\n",
    ")"
   ]
  },
  {
   "cell_type": "raw",
   "metadata": {},
   "source": [
    "That's better!\n",
    "\n",
    "Can we improve performance by looking at experience of a stronger agent (which has more learning episodes and higher scores)?"
   ]
  },
  {
   "cell_type": "code",
   "execution_count": 20,
   "metadata": {
    "collapsed": true
   },
   "outputs": [],
   "source": [
    "StrongSupervisedAgent = Softmax(\n",
    "    logits=BasicNet(\n",
    "        hidden_layers=[32],\n",
    "        batch_size=16,\n",
    "        params=GradAscent(n_steps=30, log_lr=0.9, init=Gauss)\n",
    "    )\n",
    ")\n",
    "StrongRLAgent = WholeTrajectories(\n",
    "    agent=Reinforce(policy=StrongSupervisedAgent)\n",
    ")"
   ]
  },
  {
   "cell_type": "code",
   "execution_count": 21,
   "metadata": {},
   "outputs": [
    {
     "data": {
      "image/png": "[encoded data removed]",
      "text/plain": [
       "<matplotlib.figure.Figure at 0x7f05036e5128>"
      ]
     },
     "metadata": {},
     "output_type": "display_data"
    }
   ],
   "source": [
    "histogram(\n",
    "    StrongRLAgent,\n",
    "    learn_world=Gym(\"CartPole-v1\"),\n",
    "    test_world=Gym(\"CartPole-v1\")\n",
    ")"
   ]
  },
  {
   "cell_type": "code",
   "execution_count": 22,
   "metadata": {},
   "outputs": [
    {
     "name": "stdout",
     "output_type": "stream",
     "text": [
      "Trajectories in experience cache: 2730\n"
     ]
    },
    {
     "data": {
      "image/png": "[encoded data removed]",
      "text/plain": [
       "<matplotlib.figure.Figure at 0x7f058bf91160>"
      ]
     },
     "metadata": {},
     "output_type": "display_data"
    }
   ],
   "source": [
    "histogram(\n",
    "    RLAgent,\n",
    "    learn_world=CachedExperience(\n",
    "        Gym(\"CartPole-v1\"),\n",
    "        agents=[StrongRLAgent] * 5,\n",
    "        seed=123,\n",
    "        test_each=50\n",
    "    ),\n",
    "    test_world=Gym(\"CartPole-v1\")\n",
    ")"
   ]
  },
  {
   "cell_type": "markdown",
   "metadata": {},
   "source": [
    "Ups! Not really? It seems to have gone over our agent's head.\n",
    "\n",
    "What about the reverse: train a stronger agent on learning experience of the weaker agent?"
   ]
  },
  {
   "cell_type": "code",
   "execution_count": 25,
   "metadata": {},
   "outputs": [
    {
     "name": "stdout",
     "output_type": "stream",
     "text": [
      "Trajectories in experience cache: 970\n"
     ]
    },
    {
     "data": {
      "image/png": "[encoded data removed]",
      "text/plain": [
       "<matplotlib.figure.Figure at 0x7f058bfa6748>"
      ]
     },
     "metadata": {},
     "output_type": "display_data"
    }
   ],
   "source": [
    "histogram(\n",
    "    StrongRLAgent,\n",
    "    learn_world=CachedExperience(\n",
    "        Gym(\"CartPole-v1\"),\n",
    "        agents=[RLAgent] * 5,\n",
    "        seed=123,\n",
    "        test_each=50\n",
    "    ),\n",
    "    test_world=Gym(\"CartPole-v1\")\n",
    ")"
   ]
  },
  {
   "cell_type": "markdown",
   "metadata": {},
   "source": [
    "That's not perfect, but better than the converse..."
   ]
  }
 ],
 "metadata": {
  "kernelspec": {
   "display_name": "Python 3",
   "language": "python",
   "name": "python3"
  },
  "language_info": {
   "codemirror_mode": {
    "name": "ipython",
    "version": 3
   },
   "file_extension": ".py",
   "mimetype": "text/x-python",
   "name": "python",
   "nbconvert_exporter": "python",
   "pygments_lexer": "ipython3",
   "version": "3.6.1"
  }
 },
 "nbformat": 4,
 "nbformat_minor": 2
}
